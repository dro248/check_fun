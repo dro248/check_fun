{
 "cells": [
  {
   "cell_type": "code",
   "execution_count": 1,
   "metadata": {},
   "outputs": [],
   "source": [
    "import cv2\n",
    "import matplotlib.pyplot as plt\n",
    "import os"
   ]
  },
  {
   "cell_type": "code",
   "execution_count": 2,
   "metadata": {},
   "outputs": [],
   "source": [
    "# Globals\n",
    "RED = (255, 0, 0)\n",
    "imgDataDict = dict()\n",
    "\n",
    "# UPDATE THIS WITH THE PATH TO img DIRECTORY\n",
    "imgPath = \"/home/david/Documents/CHECK_FUN/check_dataset_CURRENT/img/\""
   ]
  },
  {
   "cell_type": "markdown",
   "metadata": {},
   "source": [
    "## Import Image Metadata\n",
    "- This is the filename with the associated data for the bounding boxes"
   ]
  },
  {
   "cell_type": "code",
   "execution_count": 3,
   "metadata": {},
   "outputs": [],
   "source": [
    "with open(\"fileinfo.csv\", \"r\") as metaFile:\n",
    "    linecount = 0\n",
    "    \n",
    "    for line in metaFile:\n",
    "        # Skip header\n",
    "        if linecount == 0:\n",
    "            linecount += 1\n",
    "            continue\n",
    "\n",
    "        \n",
    "        lineData = line.strip(\"\\n\").split(\",\")\n",
    "        \n",
    "        # Create a dictionary containing info of current image\n",
    "        currentImgData = dict()\n",
    "        filename = lineData[0]\n",
    "        currentImgData['topLeftX'] = lineData[1]\n",
    "        currentImgData['topLeftY'] = lineData[2]\n",
    "        currentImgData['bottomRightX'] = lineData[3]\n",
    "        currentImgData['bottomRightY'] = lineData[4]\n",
    "        \n",
    "        # add to imgDataList\n",
    "        imgDataDict[filename] = currentImgData\n",
    "        \n",
    "        linecount += 1"
   ]
  },
  {
   "cell_type": "markdown",
   "metadata": {},
   "source": [
    "### Import Images"
   ]
  },
  {
   "cell_type": "code",
   "execution_count": 4,
   "metadata": {},
   "outputs": [],
   "source": [
    "# How to Convert images to single-channel grayscale\n",
    "# currentImage = cv2.cvtColor(currentImage, cv2.COLOR_BGR2GRAY)\n",
    "\n",
    "# How to write new single-channel images to new directory\n",
    "# cv2.imwrite(os.path.join(newPath, file), currentImage)"
   ]
  },
  {
   "cell_type": "code",
   "execution_count": 7,
   "metadata": {
    "scrolled": false
   },
   "outputs": [],
   "source": [
    "# for each image, draw the bounding box\n",
    "for file in os.listdir(imgPath):    \n",
    "    # Only use files that end in .jpg  \n",
    "    if file[-4:] != \".jpg\":\n",
    "        continue\n",
    "    \n",
    "    # Get image\n",
    "    currentImage = cv2.imread(os.path.join(imgPath, file))\n",
    "    \n",
    "    \n",
    "    \n",
    "    # Get dimensions of Bounding Box\n",
    "    topLeft = (int(imgDataDict[file]['topLeftX']), \n",
    "               int(imgDataDict[file]['topLeftY']))\n",
    "    bottomRight = (int(imgDataDict[file]['bottomRightX']), \n",
    "                   int(imgDataDict[file]['bottomRightY']))\n",
    "    \n",
    "    # Draw bounding box\n",
    "    cv2.rectangle(currentImage, topLeft, bottomRight, RED, 1)\n",
    "    \n",
    "    plt.figure()\n",
    "    plt.imshow(currentImage)"
   ]
  },
  {
   "cell_type": "code",
   "execution_count": null,
   "metadata": {},
   "outputs": [],
   "source": []
  }
 ],
 "metadata": {
  "kernelspec": {
   "display_name": "Python 3",
   "language": "python",
   "name": "python3"
  },
  "language_info": {
   "codemirror_mode": {
    "name": "ipython",
    "version": 3
   },
   "file_extension": ".py",
   "mimetype": "text/x-python",
   "name": "python",
   "nbconvert_exporter": "python",
   "pygments_lexer": "ipython3",
   "version": "3.5.2"
  }
 },
 "nbformat": 4,
 "nbformat_minor": 2
}
